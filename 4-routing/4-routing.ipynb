{
 "cells": [
  {
   "cell_type": "code",
   "execution_count": 1,
   "metadata": {},
   "outputs": [
    {
     "name": "stdout",
     "output_type": "stream",
     "text": [
      "Writing emit_log_direct.py\n"
     ]
    }
   ],
   "source": [
    "%%writefile emit_log_direct.py\n",
    "\n",
    "#!/usr/bin/env python\n",
    "import pika\n",
    "import sys\n",
    "\n",
    "connection = pika.BlockingConnection(pika.ConnectionParameters(host='localhost'))\n",
    "channel = connection.channel()\n",
    "\n",
    "channel.exchange_declare(exchange='direct_logs',\n",
    "                         exchange_type='direct')\n",
    "\n",
    "severity = sys.argv[1] if len(sys.argv) > 2 else 'info'\n",
    "message = ' '.join(sys.argv[2:]) or 'Hello World!'\n",
    "channel.basic_publish(exchange='direct_logs',\n",
    "                      routing_key=severity,\n",
    "                      body=message)\n",
    "print(\" [x] Sent %r:%r\" % (severity, message))\n",
    "connection.close()"
   ]
  },
  {
   "cell_type": "code",
   "execution_count": 2,
   "metadata": {},
   "outputs": [
    {
     "name": "stdout",
     "output_type": "stream",
     "text": [
      "Writing receive_logs_direct.py\n"
     ]
    }
   ],
   "source": [
    "%%writefile receive_logs_direct.py\n",
    "\n",
    "#!/usr/bin/env python\n",
    "import pika\n",
    "import sys\n",
    "\n",
    "connection = pika.BlockingConnection(pika.ConnectionParameters(host='localhost'))\n",
    "channel = connection.channel()\n",
    "\n",
    "channel.exchange_declare(exchange='direct_logs',\n",
    "                         exchange_type='direct')\n",
    "\n",
    "result = channel.queue_declare(exclusive=True)\n",
    "queue_name = result.method.queue\n",
    "\n",
    "severities = sys.argv[1:]\n",
    "if not severities:\n",
    "    sys.stderr.write(\"Usage: %s [info] [warning] [error]\\n\" % sys.argv[0])\n",
    "    sys.exit(1)\n",
    "\n",
    "for severity in severities:\n",
    "    channel.queue_bind(exchange='direct_logs',\n",
    "                       queue=queue_name,\n",
    "                       routing_key=severity)\n",
    "\n",
    "print(' [*] Waiting for logs. To exit press CTRL+C')\n",
    "\n",
    "def callback(ch, method, properties, body):\n",
    "    print(\" [x] %r:%r\" % (method.routing_key, body))\n",
    "\n",
    "channel.basic_consume(callback,\n",
    "                      queue=queue_name,\n",
    "                      no_ack=True)\n",
    "\n",
    "channel.start_consuming()"
   ]
  },
  {
   "cell_type": "code",
   "execution_count": null,
   "metadata": {},
   "outputs": [],
   "source": []
  }
 ],
 "metadata": {
  "kernelspec": {
   "display_name": "Python 3",
   "language": "python",
   "name": "python3"
  },
  "language_info": {
   "codemirror_mode": {
    "name": "ipython",
    "version": 3
   },
   "file_extension": ".py",
   "mimetype": "text/x-python",
   "name": "python",
   "nbconvert_exporter": "python",
   "pygments_lexer": "ipython3",
   "version": "3.6.0"
  }
 },
 "nbformat": 4,
 "nbformat_minor": 2
}
