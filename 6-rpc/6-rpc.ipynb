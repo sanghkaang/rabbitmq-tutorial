{
 "cells": [
  {
   "cell_type": "code",
   "execution_count": 2,
   "metadata": {},
   "outputs": [
    {
     "name": "stdout",
     "output_type": "stream",
     "text": [
      "Writing rpc_server.py\n"
     ]
    }
   ],
   "source": [
    "%%writefile rpc_server.py\n",
    "\n",
    "#!/usr/bin/env python\n",
    "import pika\n",
    "\n",
    "connection = pika.BlockingConnection(pika.ConnectionParameters(host='localhost'))\n",
    "\n",
    "channel = connection.channel()\n",
    "\n",
    "channel.queue_declare(queue='rpc_queue')\n",
    "\n",
    "def fib(n):\n",
    "    if n == 0:\n",
    "        return 0\n",
    "    elif n == 1:\n",
    "        return 1\n",
    "    else:\n",
    "        return fib(n-1) + fib(n-2)\n",
    "\n",
    "def on_request(ch, method, props, body):\n",
    "    n = int(body)\n",
    "\n",
    "    print(\" [.] fib(%s)\" % n)\n",
    "    response = fib(n)\n",
    "\n",
    "    ch.basic_publish(exchange='',\n",
    "                     routing_key=props.reply_to,\n",
    "                     properties=pika.BasicProperties(correlation_id = \\\n",
    "                                                         props.correlation_id),\n",
    "                     body=str(response))\n",
    "    ch.basic_ack(delivery_tag = method.delivery_tag)\n",
    "\n",
    "channel.basic_qos(prefetch_count=1)\n",
    "channel.basic_consume(on_request, queue='rpc_queue')\n",
    "\n",
    "print(\" [x] Awaiting RPC requests\")\n",
    "channel.start_consuming()"
   ]
  },
  {
   "cell_type": "code",
   "execution_count": 3,
   "metadata": {},
   "outputs": [
    {
     "name": "stdout",
     "output_type": "stream",
     "text": [
      "Writing rpc_client.py\n"
     ]
    }
   ],
   "source": [
    "%%writefile rpc_client.py\n",
    "\n",
    "#!/usr/bin/env python\n",
    "import pika\n",
    "import uuid\n",
    "\n",
    "class FibonacciRpcClient(object):\n",
    "    def __init__(self):\n",
    "        self.connection = pika.BlockingConnection(pika.ConnectionParameters(host='localhost'))\n",
    "\n",
    "        self.channel = self.connection.channel()\n",
    "\n",
    "        result = self.channel.queue_declare(exclusive=True)\n",
    "        self.callback_queue = result.method.queue\n",
    "\n",
    "        self.channel.basic_consume(self.on_response, no_ack=True,\n",
    "                                   queue=self.callback_queue)\n",
    "\n",
    "    def on_response(self, ch, method, props, body):\n",
    "        if self.corr_id == props.correlation_id:\n",
    "            self.response = body\n",
    "\n",
    "    def call(self, n):\n",
    "        self.response = None\n",
    "        self.corr_id = str(uuid.uuid4())\n",
    "        self.channel.basic_publish(exchange='',\n",
    "                                   routing_key='rpc_queue',\n",
    "                                   properties=pika.BasicProperties(\n",
    "                                         reply_to = self.callback_queue,\n",
    "                                         correlation_id = self.corr_id,\n",
    "                                         ),\n",
    "                                   body=str(n))\n",
    "        while self.response is None:\n",
    "            self.connection.process_data_events()\n",
    "        return int(self.response)\n",
    "\n",
    "fibonacci_rpc = FibonacciRpcClient()\n",
    "\n",
    "print(\" [x] Requesting fib(30)\")\n",
    "response = fibonacci_rpc.call(30)\n",
    "print(\" [.] Got %r\" % response)"
   ]
  },
  {
   "cell_type": "code",
   "execution_count": null,
   "metadata": {},
   "outputs": [],
   "source": []
  }
 ],
 "metadata": {
  "kernelspec": {
   "display_name": "Python 3",
   "language": "python",
   "name": "python3"
  },
  "language_info": {
   "codemirror_mode": {
    "name": "ipython",
    "version": 3
   },
   "file_extension": ".py",
   "mimetype": "text/x-python",
   "name": "python",
   "nbconvert_exporter": "python",
   "pygments_lexer": "ipython3",
   "version": "3.6.0"
  }
 },
 "nbformat": 4,
 "nbformat_minor": 2
}
