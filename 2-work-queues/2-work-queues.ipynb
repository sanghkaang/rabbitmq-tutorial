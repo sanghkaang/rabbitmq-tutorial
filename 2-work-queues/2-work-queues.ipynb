{
 "cells": [
  {
   "cell_type": "code",
   "execution_count": 23,
   "metadata": {},
   "outputs": [
    {
     "name": "stdout",
     "output_type": "stream",
     "text": [
      "Overwriting new_task.py\n"
     ]
    }
   ],
   "source": [
    "%%writefile new_task.py\n",
    "\n",
    "#!/usr/bin/env python\n",
    "import pika\n",
    "import sys\n",
    "\n",
    "connection = pika.BlockingConnection(pika.ConnectionParameters(host='localhost'))\n",
    "channel = connection.channel()\n",
    "\n",
    "channel.queue_declare(queue='task_queue', durable=True)\n",
    "\n",
    "message = ' '.join(sys.argv[1:]) or \"Hello World!\"\n",
    "channel.basic_publish(exchange='',\n",
    "                      routing_key='task_queue',\n",
    "                      body=message,\n",
    "                      properties=pika.BasicProperties(\n",
    "                         delivery_mode = 2, # make message persistent\n",
    "                      ))\n",
    "print(\" [x] Sent %r\" % message)\n",
    "connection.close()"
   ]
  },
  {
   "cell_type": "code",
   "execution_count": 24,
   "metadata": {},
   "outputs": [
    {
     "name": "stdout",
     "output_type": "stream",
     "text": [
      "Overwriting worker.py\n"
     ]
    }
   ],
   "source": [
    "%%writefile worker.py\n",
    "\n",
    "#!/usr/bin/env python\n",
    "import pika\n",
    "import time\n",
    "\n",
    "connection = pika.BlockingConnection(pika.ConnectionParameters(host='localhost'))\n",
    "channel = connection.channel()\n",
    "\n",
    "channel.queue_declare(queue='task_queue', durable=True)\n",
    "print(' [*] Waiting for messages. To exit press CTRL+C')\n",
    "\n",
    "def callback(ch, method, properties, body):\n",
    "    print(\" [x] Received %r\" % body)\n",
    "    time.sleep(body.count(b'.'))\n",
    "    print(\" [x] Done\")\n",
    "    ch.basic_ack(delivery_tag = method.delivery_tag)\n",
    "\n",
    "channel.basic_qos(prefetch_count=1)\n",
    "channel.basic_consume(callback,\n",
    "                      queue='task_queue')\n",
    "\n",
    "channel.start_consuming()"
   ]
  },
  {
   "cell_type": "code",
   "execution_count": null,
   "metadata": {},
   "outputs": [],
   "source": []
  },
  {
   "cell_type": "code",
   "execution_count": null,
   "metadata": {},
   "outputs": [],
   "source": []
  }
 ],
 "metadata": {
  "kernelspec": {
   "display_name": "Python 3",
   "language": "python",
   "name": "python3"
  },
  "language_info": {
   "codemirror_mode": {
    "name": "ipython",
    "version": 3
   },
   "file_extension": ".py",
   "mimetype": "text/x-python",
   "name": "python",
   "nbconvert_exporter": "python",
   "pygments_lexer": "ipython3",
   "version": "3.6.0"
  }
 },
 "nbformat": 4,
 "nbformat_minor": 2
}
