{
 "cells": [
  {
   "cell_type": "code",
   "execution_count": 1,
   "metadata": {},
   "outputs": [
    {
     "name": "stdout",
     "output_type": "stream",
     "text": [
      "Writing emit_log_topic.py\n"
     ]
    }
   ],
   "source": [
    "%%writefile emit_log_topic.py\n",
    "\n",
    "#!/usr/bin/env python\n",
    "import pika\n",
    "import sys\n",
    "\n",
    "connection = pika.BlockingConnection(pika.ConnectionParameters(host='localhost'))\n",
    "channel = connection.channel()\n",
    "\n",
    "channel.exchange_declare(exchange='topic_logs',\n",
    "                         exchange_type='topic')\n",
    "\n",
    "routing_key = sys.argv[1] if len(sys.argv) > 2 else 'anonymous.info'\n",
    "message = ' '.join(sys.argv[2:]) or 'Hello World!'\n",
    "channel.basic_publish(exchange='topic_logs',\n",
    "                      routing_key=routing_key,\n",
    "                      body=message)\n",
    "print(\" [x] Sent %r:%r\" % (routing_key, message))\n",
    "connection.close()"
   ]
  },
  {
   "cell_type": "code",
   "execution_count": 2,
   "metadata": {},
   "outputs": [
    {
     "name": "stdout",
     "output_type": "stream",
     "text": [
      "Writing receive_logs_topic.py\n"
     ]
    }
   ],
   "source": [
    "%%writefile receive_logs_topic.py\n",
    "\n",
    "#!/usr/bin/env python\n",
    "import pika\n",
    "import sys\n",
    "\n",
    "connection = pika.BlockingConnection(pika.ConnectionParameters(host='localhost'))\n",
    "channel = connection.channel()\n",
    "\n",
    "channel.exchange_declare(exchange='topic_logs',\n",
    "                         exchange_type='topic')\n",
    "\n",
    "result = channel.queue_declare(exclusive=True)\n",
    "queue_name = result.method.queue\n",
    "\n",
    "binding_keys = sys.argv[1:]\n",
    "if not binding_keys:\n",
    "    sys.stderr.write(\"Usage: %s [binding_key]...\\n\" % sys.argv[0])\n",
    "    sys.exit(1)\n",
    "\n",
    "for binding_key in binding_keys:\n",
    "    channel.queue_bind(exchange='topic_logs',\n",
    "                       queue=queue_name,\n",
    "                       routing_key=binding_key)\n",
    "\n",
    "print(' [*] Waiting for logs. To exit press CTRL+C')\n",
    "\n",
    "def callback(ch, method, properties, body):\n",
    "    print(\" [x] %r:%r\" % (method.routing_key, body))\n",
    "\n",
    "channel.basic_consume(callback,\n",
    "                      queue=queue_name,\n",
    "                      no_ack=True)\n",
    "\n",
    "channel.start_consuming()"
   ]
  },
  {
   "cell_type": "code",
   "execution_count": null,
   "metadata": {},
   "outputs": [],
   "source": []
  }
 ],
 "metadata": {
  "kernelspec": {
   "display_name": "Python 3",
   "language": "python",
   "name": "python3"
  },
  "language_info": {
   "codemirror_mode": {
    "name": "ipython",
    "version": 3
   },
   "file_extension": ".py",
   "mimetype": "text/x-python",
   "name": "python",
   "nbconvert_exporter": "python",
   "pygments_lexer": "ipython3",
   "version": "3.6.0"
  }
 },
 "nbformat": 4,
 "nbformat_minor": 2
}
